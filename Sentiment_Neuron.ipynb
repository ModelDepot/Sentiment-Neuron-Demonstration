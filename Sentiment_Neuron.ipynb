{
  "nbformat": 4,
  "nbformat_minor": 0,
  "metadata": {
    "colab": {
      "name": "Sentiment Neuron.ipynb",
      "version": "0.3.2",
      "views": {},
      "default_view": {},
      "provenance": []
    },
    "kernelspec": {
      "name": "python3",
      "display_name": "Python 3"
    }
  },
  "cells": [
    {
      "metadata": {
        "id": "NYIFoSLf1fjh",
        "colab_type": "text"
      },
      "cell_type": "markdown",
      "source": [
        "# Description\n",
        "Detect a person's sentiment in text using Unsupervised Sentiment Neuron, a model trained on 82 million Amazon reviews. It's able to predict sentiment by taking in a string, and outputting the sentiment value from -1 to 1. The full text of the review is used to detect sentiment, so even if the sentiment switches mid-text, it'll still be detected.\n",
        "\n",
        "**Possible Use Cases**\n",
        "1. Process tweets or comments to see what positive or negative things people are saying about your product.\n",
        "2. Quickly filter survey results to pick the most positive or negative feedback\n",
        "3. Process transcripts to understand how someone is feeling throughout a conversation.\n",
        "\n",
        "# Examples\n",
        "\n",
        "Input Text | Sentiment Output (From -1 to 1) | Good or Bad (As an Example) |\n",
        "--- |   --- | --- |\n",
        "the food was hot and the service was fast! | 0.5305157 | 👍 |\n",
        "worst thing ever, i hate everything about this, will return immediately | -1.6204989 | 👎 |\n",
        "\n",
        "### Keep 👀 reading 👀 to see how to get these results!\n",
        "\n",
        "# How Good is This Model?\n",
        "\n",
        "This model has been trained on 82 million Amazon reviews, taking 1 month across 4 GPUs. As with any ML model, the underlying training corpus will affect how effective this model will be in your specific use case, but the model is relatively generalizable outside of reviews. It achieves near state of the art performance, with only 7.7% error, whereas the [state of the art](https://arxiv.org/abs/1605.07725) achieves 5.91% accuracy on the IMDB sentiment dataset."
      ]
    },
    {
      "metadata": {
        "id": "kjAs5oYP0S0S",
        "colab_type": "text"
      },
      "cell_type": "markdown",
      "source": [
        "## Load Code & Weights From Github Repo"
      ]
    },
    {
      "metadata": {
        "id": "UrH4j47NrVUB",
        "colab_type": "code",
        "colab": {
          "autoexec": {
            "startup": false,
            "wait_interval": 0
          }
        }
      },
      "cell_type": "code",
      "source": [
        "!git clone https://github.com/openai/generating-reviews-discovering-sentiment.git"
      ],
      "execution_count": 0,
      "outputs": []
    },
    {
      "metadata": {
        "id": "MhTKqtHv0YiE",
        "colab_type": "text"
      },
      "cell_type": "markdown",
      "source": [
        "## Change Directory to Cloned Repo"
      ]
    },
    {
      "metadata": {
        "id": "LD0Tx74KyEps",
        "colab_type": "code",
        "colab": {
          "autoexec": {
            "startup": false,
            "wait_interval": 0
          }
        }
      },
      "cell_type": "code",
      "source": [
        "%cd generating-reviews-discovering-sentiment"
      ],
      "execution_count": 0,
      "outputs": []
    },
    {
      "metadata": {
        "id": "HnC6F5MI0XDV",
        "colab_type": "text"
      },
      "cell_type": "markdown",
      "source": [
        "## Install Dependencies"
      ]
    },
    {
      "metadata": {
        "id": "Am1w36MMy0-0",
        "colab_type": "code",
        "colab": {
          "autoexec": {
            "startup": false,
            "wait_interval": 0
          }
        }
      },
      "cell_type": "code",
      "source": [
        "!pip install tqdm"
      ],
      "execution_count": 0,
      "outputs": []
    },
    {
      "metadata": {
        "id": "5BWtPgzl0bYe",
        "colab_type": "text"
      },
      "cell_type": "markdown",
      "source": [
        "## Initialize the Model\n",
        "\n",
        "The model will automatically load all the weights from the `/generating-reviews-discovering-sentiment/model/` directory."
      ]
    },
    {
      "metadata": {
        "id": "AGMGD755ytP7",
        "colab_type": "code",
        "colab": {
          "autoexec": {
            "startup": false,
            "wait_interval": 0
          }
        }
      },
      "cell_type": "code",
      "source": [
        "from encoder import Model\n",
        "\n",
        "model = Model()"
      ],
      "execution_count": 0,
      "outputs": []
    },
    {
      "metadata": {
        "id": "jOvqrrfz0kze",
        "colab_type": "text"
      },
      "cell_type": "markdown",
      "source": [
        "## Load some text examples and infer the sentiment"
      ]
    },
    {
      "metadata": {
        "id": "4KQLdpAUzEa2",
        "colab_type": "code",
        "colab": {
          "autoexec": {
            "startup": false,
            "wait_interval": 0
          },
          "output_extras": [
            {
              "item_id": 1
            }
          ],
          "base_uri": "https://localhost:8080/",
          "height": 34
        },
        "outputId": "eb3c911f-e0e9-40bf-e6d2-c32d3e92c718",
        "executionInfo": {
          "status": "ok",
          "timestamp": 1518469196715,
          "user_tz": 480,
          "elapsed": 18778,
          "user": {
            "displayName": "Michael Shi",
            "photoUrl": "//lh4.googleusercontent.com/-vyDEb4UIwK4/AAAAAAAAAAI/AAAAAAAAADU/YNyADYHkB3E/s50-c-k-no/photo.jpg",
            "userId": "107241869691870174640"
          }
        }
      },
      "cell_type": "code",
      "source": [
        "text = [\n",
        "    'the food was hot and the service was fast!',\n",
        "    'worst thing ever, i hate everything about this, will return immediately',\n",
        "    'dead on arrival',\n",
        "    'this is a life saver, i cant live without this',\n",
        "    'it was okay, nothing amazing, but nothing to complain about either'\n",
        "]\n",
        "text_features = model.transform(text)"
      ],
      "execution_count": 17,
      "outputs": [
        {
          "output_type": "stream",
          "text": [
            "18.492 seconds to transform 5 examples\n"
          ],
          "name": "stdout"
        }
      ]
    },
    {
      "metadata": {
        "id": "DtjKXnLm0v6D",
        "colab_type": "text"
      },
      "cell_type": "markdown",
      "source": [
        "## Print The Sentiment Values"
      ]
    },
    {
      "metadata": {
        "id": "7aVC8wtFyzOM",
        "colab_type": "code",
        "colab": {
          "autoexec": {
            "startup": false,
            "wait_interval": 0
          },
          "output_extras": [
            {
              "item_id": 1
            }
          ],
          "base_uri": "https://localhost:8080/",
          "height": 34
        },
        "outputId": "84aa357b-48a2-4c25-aa93-1abf39a1864b",
        "executionInfo": {
          "status": "ok",
          "timestamp": 1518469487925,
          "user_tz": 480,
          "elapsed": 256,
          "user": {
            "displayName": "Michael Shi",
            "photoUrl": "//lh4.googleusercontent.com/-vyDEb4UIwK4/AAAAAAAAAAI/AAAAAAAAADU/YNyADYHkB3E/s50-c-k-no/photo.jpg",
            "userId": "107241869691870174640"
          }
        }
      },
      "cell_type": "code",
      "source": [
        "# Why 2388? See: https://github.com/openai/generating-reviews-discovering-sentiment/issues/2\n",
        "print(text_features[:, 2388])"
      ],
      "execution_count": 21,
      "outputs": [
        {
          "output_type": "stream",
          "text": [
            "[ 0.5305157  -1.6204989  -0.6985707   1.7084963  -0.03653394]\n"
          ],
          "name": "stdout"
        }
      ]
    },
    {
      "metadata": {
        "id": "B18CBOzZz3Jt",
        "colab_type": "text"
      },
      "cell_type": "markdown",
      "source": [
        "**Visualizing Output in Table Form, For Your Convenience**\n",
        "\n",
        "Input Text | Sentiment (From -1 to 1) |\n",
        "--- |   ---: |\n",
        "the food was hot and the service was fast! | 0.5305157 |\n",
        "worst thing ever, i hate everything about this, will return immediately | -1.6204989 |\n",
        "dead on arrival | -0.6985707 |\n",
        "this is a life saver, i cant live without this | 1.7084963 |\n",
        "it was okay, nothing amazing, but nothing to complain about either | -0.03653394 |"
      ]
    },
    {
      "metadata": {
        "id": "6YZHuVKp43LE",
        "colab_type": "text"
      },
      "cell_type": "markdown",
      "source": [
        "## References\n",
        "- [Learning to Generate Reviews and Discovering Sentiment](https://arxiv.org/abs/1704.01444) (Alec Radford, Rafal Jozefowicz, Ilya Sutskever)\n",
        "- [Unsupervised Sentiment Neuron Blog Post](https://blog.openai.com/unsupervised-sentiment-neuron/)"
      ]
    }
  ]
}